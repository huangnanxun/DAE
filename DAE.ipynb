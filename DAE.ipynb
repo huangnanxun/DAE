{
 "cells": [
  {
   "cell_type": "code",
   "execution_count": 1,
   "metadata": {},
   "outputs": [],
   "source": [
    "import torch\n",
    "import numpy as np\n",
    "import pandas as pd\n",
    "import matplotlib.pyplot as plt\n",
    "import torchvision\n",
    "import torchvision.transforms as transforms\n",
    "import torch.nn as nn\n",
    "import os\n",
    "from torchvision.utils import save_image\n",
    "import sys"
   ]
  },
  {
   "cell_type": "code",
   "execution_count": 2,
   "metadata": {},
   "outputs": [],
   "source": [
    "#transform = transforms.Compose([transforms.ToTensor(), transforms.Normalize((0.1307,), (0.3081,))])"
   ]
  },
  {
   "cell_type": "code",
   "execution_count": 3,
   "metadata": {},
   "outputs": [],
   "source": [
    "trainset = torchvision.datasets.MNIST(root='./data', train=True,transform=transforms.ToTensor())\n",
    "testset = torchvision.datasets.MNIST(root='./data', train=False,transform=transforms.ToTensor())"
   ]
  },
  {
   "cell_type": "code",
   "execution_count": 4,
   "metadata": {},
   "outputs": [],
   "source": [
    "train_data = torch.utils.data.DataLoader(dataset=trainset, \n",
    "                                           batch_size=64, \n",
    "                                           shuffle=True)\n",
    " \n",
    "test_data = torch.utils.data.DataLoader(dataset=testset, \n",
    "                                          batch_size=64, \n",
    "                                          shuffle=False)"
   ]
  },
  {
   "cell_type": "code",
   "execution_count": 5,
   "metadata": {},
   "outputs": [],
   "source": [
    "class Denoiser(nn.Module):\n",
    "    def __init__(self):\n",
    "        #Encoder\n",
    "        super(Denoiser, self).__init__()\n",
    "        self.Encoder = nn.Sequential(\n",
    "            nn.Linear(784, 400),\n",
    "            nn.LeakyReLU(0.2, inplace=True),\n",
    "            #nn.ReLU()\n",
    "            nn.Linear(400, 20),\n",
    "            nn.LeakyReLU(0.2, inplace=True)\n",
    "            #nn.ReLU()\n",
    "        )\n",
    "    \n",
    "        self.Decoder = nn.Sequential(\n",
    "            nn.Linear(20, 400),\n",
    "            nn.LeakyReLU(0.2, inplace=True),\n",
    "            #nn.ReLU()\n",
    "            nn.Linear(400, 784),\n",
    "            nn.Sigmoid() \n",
    "        )\n",
    "    \n",
    "    def forward(self, x):\n",
    "        x = self.Encoder(x)\n",
    "        x = self.Decoder(x)\n",
    "        return x"
   ]
  },
  {
   "cell_type": "code",
   "execution_count": 6,
   "metadata": {},
   "outputs": [],
   "source": [
    "Deno = Denoiser()"
   ]
  },
  {
   "cell_type": "code",
   "execution_count": 7,
   "metadata": {},
   "outputs": [],
   "source": [
    "criterion = nn.BCELoss()\n",
    "Deno_opt = torch.optim.Adam(Deno.parameters(), lr=0.001)"
   ]
  },
  {
   "cell_type": "code",
   "execution_count": 8,
   "metadata": {},
   "outputs": [],
   "source": [
    "num_epochs = 10"
   ]
  },
  {
   "cell_type": "code",
   "execution_count": 9,
   "metadata": {},
   "outputs": [
    {
     "name": "stdout",
     "output_type": "stream",
     "text": [
      "Epoch[1/10]\n",
      "Epoch[2/10]\n",
      "Epoch[3/10]\n",
      "Epoch[4/10]\n",
      "Epoch[5/10]\n",
      "Epoch[6/10]\n",
      "Epoch[7/10]\n",
      "Epoch[8/10]\n",
      "Epoch[9/10]\n",
      "Epoch[10/10]\n"
     ]
    }
   ],
   "source": [
    "loss_list = []\n",
    "for epoch in range(num_epochs):\n",
    "    loss_sum_in_epoch = 0\n",
    "    for step,(x, _) in enumerate(train_data):\n",
    "        if (x.shape[0] != 64):\n",
    "            continue\n",
    "        x = x.reshape(64,784)\n",
    "        x_with_noise = x + 0.3 * torch.randn(x.shape)\n",
    "        #x_with_noise = torch.tensor(x_with_noise, requires_grad=True)\n",
    "        x_with_noise = torch.clamp(x_with_noise, 0.0, 1.0)\n",
    "        #print(x_with_noise)\n",
    "        Deno_outputs = Deno(x_with_noise)\n",
    "        loss = criterion(Deno_outputs, x)\n",
    "        #print(loss)\n",
    "        Deno_opt.zero_grad()\n",
    "        loss.backward()\n",
    "        Deno_opt.step()\n",
    "        loss_sum_in_epoch = loss_sum_in_epoch + loss.item()\n",
    "    loss_list.append(loss_sum_in_epoch/937)\n",
    "    print('Epoch[{}/{}]'.format(epoch+1,num_epochs))"
   ]
  },
  {
   "cell_type": "code",
   "execution_count": 10,
   "metadata": {},
   "outputs": [
    {
     "data": {
      "text/plain": [
       "[<matplotlib.lines.Line2D at 0x231fc18c9b0>]"
      ]
     },
     "execution_count": 10,
     "metadata": {},
     "output_type": "execute_result"
    },
    {
     "data": {
      "image/png": "[encoded data removed]",
      "text/plain": [
       "<Figure size 432x288 with 1 Axes>"
      ]
     },
     "metadata": {
      "needs_background": "light"
     },
     "output_type": "display_data"
    }
   ],
   "source": [
    "Loss_df = pd.DataFrame({'index': list(range(10)), 'Loss': loss_list})\n",
    "plt.plot('index', 'Loss', data=Loss_df)"
   ]
  },
  {
   "cell_type": "code",
   "execution_count": 11,
   "metadata": {},
   "outputs": [
    {
     "data": {
      "image/png": "[encoded data removed]",
      "text/plain": [
       "<Figure size 432x288 with 10 Axes>"
      ]
     },
     "metadata": {
      "needs_background": "light"
     },
     "output_type": "display_data"
    }
   ],
   "source": [
    "iterator = iter(test_data)\n",
    "x_test, label = iterator.next()\n",
    "x_test = x_test.reshape(64,784)\n",
    "x_with_noise = x_test + 0.3 * torch.randn(x_test.shape, requires_grad=True)\n",
    "#x_with_noise = torch.clamp(x_with_noise, 0.0, 1.0, out=None)\n",
    "Deno_outputs = Deno(x_with_noise)\n",
    "Deno_outputs = Deno_outputs.reshape(64,1,28,28)\n",
    "x_with_noise_img = x_with_noise.detach().numpy().reshape(64, 1, 28, 28)\n",
    "Deno_outputs = Deno_outputs.view(64, 1, 28, 28)\n",
    "Deno_outputs = Deno_outputs.detach().numpy()\n",
    "fig, axes = plt.subplots(nrows=2, ncols=5, sharex=True, sharey=True)\n",
    "\n",
    "for x_with_noise_img, row in zip([x_with_noise_img, Deno_outputs], axes):\n",
    "    for img, ax in zip(x_with_noise_img, row):\n",
    "        ax.imshow(np.squeeze(img), cmap='gray')\n",
    "        ax.get_xaxis().set_visible(False)\n",
    "        ax.get_yaxis().set_visible(False)"
   ]
  },
  {
   "cell_type": "code",
   "execution_count": 12,
   "metadata": {},
   "outputs": [],
   "source": [
    "torch.save(Deno.state_dict(), 'hw5_dAE.pth')"
   ]
  },
  {
   "cell_type": "code",
   "execution_count": null,
   "metadata": {},
   "outputs": [],
   "source": []
  }
 ],
 "metadata": {
  "kernelspec": {
   "display_name": "Python 3",
   "language": "python",
   "name": "python3"
  },
  "language_info": {
   "codemirror_mode": {
    "name": "ipython",
    "version": 3
   },
   "file_extension": ".py",
   "mimetype": "text/x-python",
   "name": "python",
   "nbconvert_exporter": "python",
   "pygments_lexer": "ipython3",
   "version": "3.7.3"
  }
 },
 "nbformat": 4,
 "nbformat_minor": 2
}
